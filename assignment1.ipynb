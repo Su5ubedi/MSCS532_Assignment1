{
 "cells": [
  {
   "cell_type": "code",
   "execution_count": 2,
   "id": "e9334c27",
   "metadata": {},
   "outputs": [
    {
     "name": "stdout",
     "output_type": "stream",
     "text": [
      "Original array: [8, 10, 13, 5, 6]\n",
      "Sorted array in descending order: [13, 10, 8, 6, 5]\n"
     ]
    }
   ],
   "source": [
    "# insertion_sort_descending.ipynb\n ",
    "\n",
    "\n",
    "def insertion_sort_desc(arr):\n",
    "    \"\"\"\n",
    "    Sort an array in monotonically decreasing order using Insertion Sort.\n",
    "    \"\"\"\n",
    "    for i in range(1, len(arr)):\n",
    "        key = arr[i]\n",
    "        j = i - 1\n",
    "        while j >= 0 and arr[j] < key:\n",
    "            arr[j + 1] = arr[j]\n",
    "            j -= 1\n",
    "        arr[j + 1] = key\n",
    "\n",
    "# Example usage\n",
    "sample_array = [12, 11, 13, 5, 6]\n",
    "print(\"Original array:\", sample_array)\n",
    "insertion_sort_desc(sample_array)\n",
    "print(\"Sorted array in descending order:\", sample_array)\n"
   ]
  },
  {
   "cell_type": "code",
   "execution_count": null,
   "id": "863b67f3",
   "metadata": {},
   "outputs": [],
   "source": []
  }
 ],
 "metadata": {
  "kernelspec": {
   "display_name": "Python 3 (ipykernel)",
   "language": "python",
   "name": "python3"
  },
  "language_info": {
   "codemirror_mode": {
    "name": "ipython",
    "version": 3
   },
   "file_extension": ".py",
   "mimetype": "text/x-python",
   "name": "python",
   "nbconvert_exporter": "python",
   "pygments_lexer": "ipython3",
   "version": "3.10.9"
  }
 },
 "nbformat": 4,
 "nbformat_minor": 5
}
