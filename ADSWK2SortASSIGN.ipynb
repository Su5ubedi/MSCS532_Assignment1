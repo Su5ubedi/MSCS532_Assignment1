{
 "cells": [
  {
   "cell_type": "code",
   "execution_count": 1,
   "id": "5bc107e9",
   "metadata": {},
   "outputs": [],
   "source": [
    "# Quick Sort\n",
    "import time\n",
    "# Quick Sort Implementation\n",
    "def quick_sort(arr):\n",
    "    if len(arr) <= 1:\n",
    "        return arr\n",
    "    pivot = arr[len(arr) // 2]\n",
    "    left = [x for x in arr if x < pivot]\n",
    "    middle = [x for x in arr if x == pivot]\n",
    "    right = [x for x in arr if x > pivot]\n",
    "    return quick_sort(left) + middle + quick_sort(right)\n"
   ]
  },
  {
   "cell_type": "code",
   "execution_count": 2,
   "id": "003178d2",
   "metadata": {},
   "outputs": [],
   "source": [
    "# Merge Sort\n",
    "# Merge Sort Implementation\n",
    "def merge_sort(arr):\n",
    "    if len(arr) <= 1:\n",
    "        return arr\n",
    "    mid = len(arr) // 2\n",
    "    left = merge_sort(arr[:mid])\n",
    "    right = merge_sort(arr[mid:])\n",
    "    return merge(left, right)\n",
    "\n",
    "def merge(left, right):\n",
    "    result = []\n",
    "    i = j = 0\n",
    "    while i < len(left) and j < len(right):\n",
    "        if left[i] < right[j]:\n",
    "            result.append(left[i])\n",
    "            i += 1\n",
    "        else:\n",
    "            result.append(right[j])\n",
    "            j += 1\n",
    "    result.extend(left[i:])\n",
    "    result.extend(right[j:])\n",
    "    return result\n"
   ]
  },
  {
   "cell_type": "code",
   "execution_count": 5,
   "id": "488cce6b",
   "metadata": {},
   "outputs": [
    {
     "name": "stdout",
     "output_type": "stream",
     "text": [
      "Quick Sort (Random) 100: 0.001729 sec\n",
      "Merge Sort (Random) 100: 0.002023 sec\n",
      "Quick Sort (Random) 1000: 0.010211 sec\n",
      "Merge Sort (Random) 1000: 0.031274 sec\n",
      "Quick Sort (Random) 10000: 0.158437 sec\n",
      "Merge Sort (Random) 10000: 0.263759 sec\n"
     ]
    }
   ],
   "source": [
    "import random\n",
    "# Generate datasets\n",
    "sizes = [100, 1000, 10000]\n",
    "for size in sizes:\n",
    "    random_data = random.sample(range(size), size)\n",
    "    sorted_data = list(range(size))\n",
    "    reverse_sorted_data = list(range(size, 0, -1))\n",
    "\n",
    "    # Measure Quick Sort\n",
    "    start = time.time()\n",
    "    quick_sort(random_data)\n",
    "    print(f\"Quick Sort (Random) {size}: {time.time() - start:.6f} sec\")\n",
    "\n",
    "    # Measure Merge Sort\n",
    "    start = time.time()\n",
    "    merge_sort(random_data)\n",
    "    print(f\"Merge Sort (Random) {size}: {time.time() - start:.6f} sec\")\n"
   ]
  },
  {
   "cell_type": "code",
   "execution_count": null,
   "id": "90c95222",
   "metadata": {},
   "outputs": [],
   "source": []
  }
 ],
 "metadata": {
  "kernelspec": {
   "display_name": "Python 3 (ipykernel)",
   "language": "python",
   "name": "python3"
  },
  "language_info": {
   "codemirror_mode": {
    "name": "ipython",
    "version": 3
   },
   "file_extension": ".py",
   "mimetype": "text/x-python",
   "name": "python",
   "nbconvert_exporter": "python",
   "pygments_lexer": "ipython3",
   "version": "3.10.9"
  }
 },
 "nbformat": 4,
 "nbformat_minor": 5
}
